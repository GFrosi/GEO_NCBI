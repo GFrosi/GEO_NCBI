{
 "cells": [
  {
   "cell_type": "code",
   "execution_count": 1,
   "metadata": {},
   "outputs": [],
   "source": [
    "import pandas as pd\n",
    "import numpy as np"
   ]
  },
  {
   "cell_type": "code",
   "execution_count": 3,
   "metadata": {},
   "outputs": [],
   "source": [
    "pd.set_option('display.max_rows', 20)\n",
    "\n",
    "\n",
    "df_final = pd.read_csv(r'final_df_to_work_42022samples.csv')\n"
   ]
  },
  {
   "cell_type": "code",
   "execution_count": 109,
   "metadata": {},
   "outputs": [],
   "source": [
    "#df_final"
   ]
  },
  {
   "cell_type": "code",
   "execution_count": 24,
   "metadata": {},
   "outputs": [],
   "source": [
    "#function to find targets \n",
    "#return a dataframe filtered by targets\n",
    "\n",
    "\n",
    "def find_target(df, target):\n",
    "    \n",
    "    return df[(df['Title'].str.contains(target,case=False, na=False)) | \n",
    "        (df['Target-antibody'].str.contains(target,case=False, na=False) |\n",
    "        (df['source-cell'].str.contains(target,case=False, na=False)))]\n",
    "    \n",
    "    \n",
    "\n",
    "\n",
    "# df_cell_type_h3k4me3_tcell = find_cell_type(h3k4me3_df, '.*\\st.?cell\\s.*')\n",
    "# df_cell_type_h3k4me3_tcell\n",
    "\n"
   ]
  },
  {
   "cell_type": "markdown",
   "metadata": {},
   "source": [
    "# H3K4me1 selection controls and traits (4 gse to tests)"
   ]
  },
  {
   "cell_type": "code",
   "execution_count": 110,
   "metadata": {},
   "outputs": [],
   "source": [
    "#using str.match we recovered 586 samples\n",
    "#Using str.contains we recovered 1369 samples (in the intersection approach, we have 848 samples)\n",
    "\n",
    "\n",
    "\n",
    "df_h3k4me1 = find_target(df_final, 'h3k4me1')\n",
    "#df_h3k4me1"
   ]
  },
  {
   "cell_type": "code",
   "execution_count": 28,
   "metadata": {},
   "outputs": [
    {
     "data": {
      "text/html": [
       "<div>\n",
       "<style scoped>\n",
       "    .dataframe tbody tr th:only-of-type {\n",
       "        vertical-align: middle;\n",
       "    }\n",
       "\n",
       "    .dataframe tbody tr th {\n",
       "        vertical-align: top;\n",
       "    }\n",
       "\n",
       "    .dataframe thead th {\n",
       "        text-align: right;\n",
       "    }\n",
       "</style>\n",
       "<table border=\"1\" class=\"dataframe\">\n",
       "  <thead>\n",
       "    <tr style=\"text-align: right;\">\n",
       "      <th></th>\n",
       "      <th>Title</th>\n",
       "      <th>cell type</th>\n",
       "      <th>organism</th>\n",
       "      <th>source-cell</th>\n",
       "      <th>GSE</th>\n",
       "      <th>GSM</th>\n",
       "      <th>Library</th>\n",
       "      <th>Target-antibody</th>\n",
       "      <th>Cell line</th>\n",
       "      <th>Categories</th>\n",
       "      <th>Categories_v2</th>\n",
       "    </tr>\n",
       "    <tr>\n",
       "      <th>Categories</th>\n",
       "      <th></th>\n",
       "      <th></th>\n",
       "      <th></th>\n",
       "      <th></th>\n",
       "      <th></th>\n",
       "      <th></th>\n",
       "      <th></th>\n",
       "      <th></th>\n",
       "      <th></th>\n",
       "      <th></th>\n",
       "      <th></th>\n",
       "    </tr>\n",
       "  </thead>\n",
       "  <tbody>\n",
       "    <tr>\n",
       "      <td>Control</td>\n",
       "      <td>48</td>\n",
       "      <td>10</td>\n",
       "      <td>1</td>\n",
       "      <td>24</td>\n",
       "      <td>23</td>\n",
       "      <td>48</td>\n",
       "      <td>1</td>\n",
       "      <td>4</td>\n",
       "      <td>13</td>\n",
       "      <td>1</td>\n",
       "      <td>1</td>\n",
       "    </tr>\n",
       "    <tr>\n",
       "      <td>Trait</td>\n",
       "      <td>1314</td>\n",
       "      <td>156</td>\n",
       "      <td>1</td>\n",
       "      <td>652</td>\n",
       "      <td>329</td>\n",
       "      <td>1321</td>\n",
       "      <td>1</td>\n",
       "      <td>31</td>\n",
       "      <td>254</td>\n",
       "      <td>1</td>\n",
       "      <td>1</td>\n",
       "    </tr>\n",
       "  </tbody>\n",
       "</table>\n",
       "</div>"
      ],
      "text/plain": [
       "            Title  cell type  organism  source-cell  GSE   GSM  Library  \\\n",
       "Categories                                                                \n",
       "Control        48         10         1           24   23    48        1   \n",
       "Trait        1314        156         1          652  329  1321        1   \n",
       "\n",
       "            Target-antibody  Cell line  Categories  Categories_v2  \n",
       "Categories                                                         \n",
       "Control                   4         13           1              1  \n",
       "Trait                    31        254           1              1  "
      ]
     },
     "execution_count": 28,
     "metadata": {},
     "output_type": "execute_result"
    }
   ],
   "source": [
    "#For our test using macrophage samples (5) and different number of controls related to h3k4me1 target\n",
    "#Filtering this table by our desired target and after, by controls\n",
    "\n",
    "df_h3k4me1_ctrl_traits = df_h3k4me1.groupby('Categories').nunique()\n",
    "df_h3k4me1_ctrl_traits\n",
    "\n"
   ]
  },
  {
   "cell_type": "code",
   "execution_count": 50,
   "metadata": {},
   "outputs": [],
   "source": [
    "#Find 4 GSE to get the control and traits for this target (h3k4me1)\n",
    "\n",
    "df_h3k4me1_ctrl = df_h3k4me1[df_h3k4me1['Categories'].str.contains('Control')]\n",
    "\n",
    "gse_list_control = df_h3k4me1_ctrl['GSE'].tolist()\n"
   ]
  },
  {
   "cell_type": "code",
   "execution_count": 150,
   "metadata": {},
   "outputs": [],
   "source": [
    "# gse_list_control"
   ]
  },
  {
   "cell_type": "code",
   "execution_count": 151,
   "metadata": {},
   "outputs": [],
   "source": [
    "#Finding the samples to new tests (GSE103590)\n",
    "\n",
    "# df_h3k4me1[df_h3k4me1['GSE'].str.contains('GSE103590')]\n",
    "\n",
    "#GSE64557\n",
    "#'GSE16368' (false positive) - ctl"
   ]
  },
  {
   "cell_type": "code",
   "execution_count": 68,
   "metadata": {},
   "outputs": [],
   "source": [
    "#First Series\n",
    "GSE103590_traits = ['GSM2775000', 'GSM2775004']\n",
    "GSE103590_controls = ['GSM2775016', 'GSM2775017', 'GSM2775018', 'GSM2775019', 'GSM2775020', 'GSM2775021', 'GSM2775022', 'GSM2775023']"
   ]
  },
  {
   "cell_type": "code",
   "execution_count": 65,
   "metadata": {},
   "outputs": [],
   "source": [
    "#Getting SRR IDs - Loading table\n",
    "\n",
    "SRR_GSM_df = pd.read_csv(r'/Users/gfrosi/Documents/Frosi_lab_jacques/SRR_files_script/SRR_GSM_complete_mac.csv')\n"
   ]
  },
  {
   "cell_type": "code",
   "execution_count": 69,
   "metadata": {},
   "outputs": [],
   "source": [
    "#Getting SRR IDs\n",
    "\n",
    "SRR_GSE103590_control = SRR_GSM_df[SRR_GSM_df['GSM'].isin(GSE103590_controls)]\n",
    "SRR_GSE103590_traits =  SRR_GSM_df[SRR_GSM_df['GSM'].isin(GSE103590_traits)]\n"
   ]
  },
  {
   "cell_type": "code",
   "execution_count": 135,
   "metadata": {},
   "outputs": [
    {
     "data": {
      "text/html": [
       "<div>\n",
       "<style scoped>\n",
       "    .dataframe tbody tr th:only-of-type {\n",
       "        vertical-align: middle;\n",
       "    }\n",
       "\n",
       "    .dataframe tbody tr th {\n",
       "        vertical-align: top;\n",
       "    }\n",
       "\n",
       "    .dataframe thead th {\n",
       "        text-align: right;\n",
       "    }\n",
       "</style>\n",
       "<table border=\"1\" class=\"dataframe\">\n",
       "  <thead>\n",
       "    <tr style=\"text-align: right;\">\n",
       "      <th></th>\n",
       "      <th>GSM</th>\n",
       "      <th>SRR</th>\n",
       "    </tr>\n",
       "  </thead>\n",
       "  <tbody>\n",
       "    <tr>\n",
       "      <td>29115</td>\n",
       "      <td>GSM2775000</td>\n",
       "      <td>SRR6013846</td>\n",
       "    </tr>\n",
       "    <tr>\n",
       "      <td>29116</td>\n",
       "      <td>GSM2775000</td>\n",
       "      <td>SRR6013847</td>\n",
       "    </tr>\n",
       "    <tr>\n",
       "      <td>29117</td>\n",
       "      <td>GSM2775000</td>\n",
       "      <td>SRR6013848</td>\n",
       "    </tr>\n",
       "    <tr>\n",
       "      <td>56051</td>\n",
       "      <td>GSM2775004</td>\n",
       "      <td>SRR6013858</td>\n",
       "    </tr>\n",
       "    <tr>\n",
       "      <td>56052</td>\n",
       "      <td>GSM2775004</td>\n",
       "      <td>SRR6013859</td>\n",
       "    </tr>\n",
       "    <tr>\n",
       "      <td>56053</td>\n",
       "      <td>GSM2775004</td>\n",
       "      <td>SRR6013860</td>\n",
       "    </tr>\n",
       "  </tbody>\n",
       "</table>\n",
       "</div>"
      ],
      "text/plain": [
       "              GSM         SRR\n",
       "29115  GSM2775000  SRR6013846\n",
       "29116  GSM2775000  SRR6013847\n",
       "29117  GSM2775000  SRR6013848\n",
       "56051  GSM2775004  SRR6013858\n",
       "56052  GSM2775004  SRR6013859\n",
       "56053  GSM2775004  SRR6013860"
      ]
     },
     "execution_count": 135,
     "metadata": {},
     "output_type": "execute_result"
    }
   ],
   "source": [
    "SRR_GSE103590_traits"
   ]
  },
  {
   "cell_type": "code",
   "execution_count": 73,
   "metadata": {},
   "outputs": [],
   "source": [
    "#list SRRs\n",
    "\n",
    "list_SRR_GSE103590_control = SRR_GSE103590_control['SRR'].tolist()\n",
    "list_SRR_GSE103590_traits = SRR_GSE103590_traits['SRR'].tolist()"
   ]
  },
  {
   "cell_type": "code",
   "execution_count": 75,
   "metadata": {},
   "outputs": [],
   "source": [
    "#Saving lists GSE103590 (Control)\n",
    "\n",
    "with open(\"list_SRR_GSE103590_control.txt\", \"w\") as file:\n",
    "    file.write(\"\\n\".join(map(str,list_SRR_GSE103590_control)))\n"
   ]
  },
  {
   "cell_type": "code",
   "execution_count": 77,
   "metadata": {},
   "outputs": [],
   "source": [
    "#Saving lists GSE103590 (Traits)\n",
    "\n",
    "with open(\"list_SRR_GSE103590_traits.txt\", \"w\") as file:\n",
    "    file.write(\"\\n\".join(map(str,list_SRR_GSE103590_traits)))\n"
   ]
  },
  {
   "cell_type": "code",
   "execution_count": 82,
   "metadata": {},
   "outputs": [],
   "source": [
    "#GSE129085\n",
    "\n",
    "df_h3k4me1[df_h3k4me1['GSE'].str.contains('GSE129085')]\n",
    "\n",
    "#First Series\n",
    "GSE129085_traits = ['GSM3693097', 'GSM3693098']\n",
    "GSE129085_controls = ['GSM3693091', 'GSM3693092', 'GSM3693093', 'GSM3693094', 'GSM3693095']\n",
    "\n"
   ]
  },
  {
   "cell_type": "code",
   "execution_count": 83,
   "metadata": {},
   "outputs": [],
   "source": [
    "#Getting SRR IDs\n",
    "\n",
    "SRR_GSE129085_control = SRR_GSM_df[SRR_GSM_df['GSM'].isin(GSE129085_controls)]\n",
    "SRR_GSE129085_traits =  SRR_GSM_df[SRR_GSM_df['GSM'].isin(GSE129085_traits)]\n"
   ]
  },
  {
   "cell_type": "code",
   "execution_count": 84,
   "metadata": {},
   "outputs": [],
   "source": [
    "#list SRRs\n",
    "\n",
    "list_SRR_GSE129085_control = SRR_GSE129085_control['SRR'].tolist()\n",
    "list_SRR_GSE129085_traits = SRR_GSE129085_traits['SRR'].tolist()"
   ]
  },
  {
   "cell_type": "code",
   "execution_count": 85,
   "metadata": {},
   "outputs": [],
   "source": [
    "#Saving lists GSE129085 (Control)\n",
    "\n",
    "with open(\"list_SRR_GSE129085_control.txt\", \"w\") as file:\n",
    "    file.write(\"\\n\".join(map(str,list_SRR_GSE129085_control)))\n"
   ]
  },
  {
   "cell_type": "code",
   "execution_count": 86,
   "metadata": {},
   "outputs": [],
   "source": [
    "#Saving lists GSE129085 (Traits)\n",
    "\n",
    "with open(\"list_SRR_GSE129085_traits.txt\", \"w\") as file:\n",
    "    file.write(\"\\n\".join(map(str,list_SRR_GSE129085_traits)))"
   ]
  },
  {
   "cell_type": "code",
   "execution_count": 154,
   "metadata": {},
   "outputs": [],
   "source": [
    "#GSE64557\n",
    "\n",
    "df_h3k4me1[df_h3k4me1['GSE'].str.contains('GSE64557')]\n",
    "\n",
    "#First Series\n",
    "GSE64557_traits = ['GSM1574290', 'GSM1574291']\n",
    "GSE64557_controls = ['GSM1574286', 'GSM1574287']\n",
    "\n"
   ]
  },
  {
   "cell_type": "code",
   "execution_count": 155,
   "metadata": {},
   "outputs": [],
   "source": [
    "#Getting SRR IDs\n",
    "\n",
    "SRR_GSE64557_control = SRR_GSM_df[SRR_GSM_df['GSM'].isin(GSE64557_controls)]\n",
    "SRR_GSE64557_traits =  SRR_GSM_df[SRR_GSM_df['GSM'].isin(GSE64557_traits)]\n"
   ]
  },
  {
   "cell_type": "code",
   "execution_count": 157,
   "metadata": {},
   "outputs": [
    {
     "data": {
      "text/html": [
       "<div>\n",
       "<style scoped>\n",
       "    .dataframe tbody tr th:only-of-type {\n",
       "        vertical-align: middle;\n",
       "    }\n",
       "\n",
       "    .dataframe tbody tr th {\n",
       "        vertical-align: top;\n",
       "    }\n",
       "\n",
       "    .dataframe thead th {\n",
       "        text-align: right;\n",
       "    }\n",
       "</style>\n",
       "<table border=\"1\" class=\"dataframe\">\n",
       "  <thead>\n",
       "    <tr style=\"text-align: right;\">\n",
       "      <th></th>\n",
       "      <th>GSM</th>\n",
       "      <th>SRR</th>\n",
       "    </tr>\n",
       "  </thead>\n",
       "  <tbody>\n",
       "    <tr>\n",
       "      <td>9007</td>\n",
       "      <td>GSM1574291</td>\n",
       "      <td>SRR1736479</td>\n",
       "    </tr>\n",
       "    <tr>\n",
       "      <td>17693</td>\n",
       "      <td>GSM1574290</td>\n",
       "      <td>SRR1736478</td>\n",
       "    </tr>\n",
       "  </tbody>\n",
       "</table>\n",
       "</div>"
      ],
      "text/plain": [
       "              GSM         SRR\n",
       "9007   GSM1574291  SRR1736479\n",
       "17693  GSM1574290  SRR1736478"
      ]
     },
     "execution_count": 157,
     "metadata": {},
     "output_type": "execute_result"
    }
   ],
   "source": [
    "SRR_GSE64557_traits"
   ]
  },
  {
   "cell_type": "code",
   "execution_count": 158,
   "metadata": {},
   "outputs": [],
   "source": [
    "#list SRRs\n",
    "\n",
    "list_SRR_GSE64557_control = SRR_GSE64557_control['SRR'].tolist()\n",
    "list_SRR_GSE64557_traits = SRR_GSE64557_traits['SRR'].tolist()"
   ]
  },
  {
   "cell_type": "code",
   "execution_count": 159,
   "metadata": {},
   "outputs": [],
   "source": [
    "#Saving lists GSE72141 (Control)\n",
    "\n",
    "with open(\"list_SRR_GSE64557_control.txt\", \"w\") as file:\n",
    "    file.write(\"\\n\".join(map(str,list_SRR_GSE64557_control)))\n"
   ]
  },
  {
   "cell_type": "code",
   "execution_count": 160,
   "metadata": {},
   "outputs": [],
   "source": [
    "#Saving lists GSE72141 (Traits)\n",
    "\n",
    "with open(\"list_SRR_GSE64557_traits.txt\", \"w\") as file:\n",
    "    file.write(\"\\n\".join(map(str,list_SRR_GSE64557_traits)))"
   ]
  },
  {
   "cell_type": "code",
   "execution_count": 100,
   "metadata": {},
   "outputs": [],
   "source": [
    "#GSE57007\n",
    "df_h3k4me1[df_h3k4me1['GSE'].str.contains('GSE57007')]\n",
    "\n",
    "#First Series\n",
    "GSE57007_traits = ['GSM1372854', 'GSM1372865']\n",
    "GSE57007_controls = ['GSM1372860', 'GSM1372873']\n",
    "\n",
    "\n"
   ]
  },
  {
   "cell_type": "code",
   "execution_count": 101,
   "metadata": {},
   "outputs": [],
   "source": [
    "#Getting SRR IDs\n",
    "\n",
    "SRR_GSE57007_control = SRR_GSM_df[SRR_GSM_df['GSM'].isin(GSE57007_controls)]\n",
    "SRR_GSE57007_traits =  SRR_GSM_df[SRR_GSM_df['GSM'].isin(GSE57007_traits)]"
   ]
  },
  {
   "cell_type": "code",
   "execution_count": 102,
   "metadata": {},
   "outputs": [],
   "source": [
    "#list SRRs\n",
    "\n",
    "list_SRR_GSE57007_control = SRR_GSE57007_control['SRR'].tolist()\n",
    "list_SRR_GSE57007_traits = SRR_GSE57007_traits['SRR'].tolist()"
   ]
  },
  {
   "cell_type": "code",
   "execution_count": 105,
   "metadata": {},
   "outputs": [],
   "source": [
    "#Saving lists GSE57007 (Control)\n",
    "\n",
    "with open(\"list_SRR_GSE57007_control.txt\", \"w\") as file:\n",
    "    file.write(\"\\n\".join(map(str,list_SRR_GSE57007_control)))\n"
   ]
  },
  {
   "cell_type": "code",
   "execution_count": 106,
   "metadata": {},
   "outputs": [],
   "source": [
    "#Saving lists GSE57007 (Control)\n",
    "\n",
    "with open(\"list_SRR_GSE57007_traits.txt\", \"w\") as file:\n",
    "    file.write(\"\\n\".join(map(str,list_SRR_GSE57007_traits)))"
   ]
  },
  {
   "cell_type": "markdown",
   "metadata": {},
   "source": [
    "# H3K4me3 selection controls and traits (4 gse to tests)"
   ]
  },
  {
   "cell_type": "code",
   "execution_count": 123,
   "metadata": {},
   "outputs": [],
   "source": [
    "#Using str.contains we recovered 2710 samples (in the intersection approach, we have 1594 samples)\n",
    "\n",
    "\n",
    "\n",
    "df_h3k4me3 = find_target(df_final, 'h3k4me3')\n",
    "#df_h3k4me3"
   ]
  },
  {
   "cell_type": "code",
   "execution_count": 111,
   "metadata": {},
   "outputs": [
    {
     "data": {
      "text/html": [
       "<div>\n",
       "<style scoped>\n",
       "    .dataframe tbody tr th:only-of-type {\n",
       "        vertical-align: middle;\n",
       "    }\n",
       "\n",
       "    .dataframe tbody tr th {\n",
       "        vertical-align: top;\n",
       "    }\n",
       "\n",
       "    .dataframe thead th {\n",
       "        text-align: right;\n",
       "    }\n",
       "</style>\n",
       "<table border=\"1\" class=\"dataframe\">\n",
       "  <thead>\n",
       "    <tr style=\"text-align: right;\">\n",
       "      <th></th>\n",
       "      <th>Title</th>\n",
       "      <th>cell type</th>\n",
       "      <th>organism</th>\n",
       "      <th>source-cell</th>\n",
       "      <th>GSE</th>\n",
       "      <th>GSM</th>\n",
       "      <th>Library</th>\n",
       "      <th>Target-antibody</th>\n",
       "      <th>Cell line</th>\n",
       "      <th>Categories</th>\n",
       "      <th>Categories_v2</th>\n",
       "    </tr>\n",
       "    <tr>\n",
       "      <th>Categories</th>\n",
       "      <th></th>\n",
       "      <th></th>\n",
       "      <th></th>\n",
       "      <th></th>\n",
       "      <th></th>\n",
       "      <th></th>\n",
       "      <th></th>\n",
       "      <th></th>\n",
       "      <th></th>\n",
       "      <th></th>\n",
       "      <th></th>\n",
       "    </tr>\n",
       "  </thead>\n",
       "  <tbody>\n",
       "    <tr>\n",
       "      <td>Control</td>\n",
       "      <td>153</td>\n",
       "      <td>26</td>\n",
       "      <td>1</td>\n",
       "      <td>69</td>\n",
       "      <td>57</td>\n",
       "      <td>153</td>\n",
       "      <td>1</td>\n",
       "      <td>6</td>\n",
       "      <td>25</td>\n",
       "      <td>1</td>\n",
       "      <td>2</td>\n",
       "    </tr>\n",
       "    <tr>\n",
       "      <td>Trait</td>\n",
       "      <td>2539</td>\n",
       "      <td>278</td>\n",
       "      <td>1</td>\n",
       "      <td>1105</td>\n",
       "      <td>559</td>\n",
       "      <td>2557</td>\n",
       "      <td>1</td>\n",
       "      <td>50</td>\n",
       "      <td>319</td>\n",
       "      <td>1</td>\n",
       "      <td>1</td>\n",
       "    </tr>\n",
       "  </tbody>\n",
       "</table>\n",
       "</div>"
      ],
      "text/plain": [
       "            Title  cell type  organism  source-cell  GSE   GSM  Library  \\\n",
       "Categories                                                                \n",
       "Control       153         26         1           69   57   153        1   \n",
       "Trait        2539        278         1         1105  559  2557        1   \n",
       "\n",
       "            Target-antibody  Cell line  Categories  Categories_v2  \n",
       "Categories                                                         \n",
       "Control                   6         25           1              2  \n",
       "Trait                    50        319           1              1  "
      ]
     },
     "execution_count": 111,
     "metadata": {},
     "output_type": "execute_result"
    }
   ],
   "source": [
    "#Grouping by\n",
    "\n",
    "#153 controls / 57 GSE\n",
    "\n",
    "df_h3k4me3_ctrl_traits = df_h3k4me3.groupby('Categories').nunique()\n",
    "df_h3k4me3_ctrl_traits"
   ]
  },
  {
   "cell_type": "code",
   "execution_count": 112,
   "metadata": {},
   "outputs": [],
   "source": [
    "#Find 4 GSE to get the control and traits for this target (h3k4me1)\n",
    "\n",
    "df_h3k4me3_ctrl = df_h3k4me3[df_h3k4me3['Categories'].str.contains('Control')]\n",
    "\n",
    "gse_list_control_1 = df_h3k4me3_ctrl['GSE'].tolist()\n"
   ]
  },
  {
   "cell_type": "code",
   "execution_count": 196,
   "metadata": {},
   "outputs": [],
   "source": [
    "# gse_list_control_1"
   ]
  },
  {
   "cell_type": "code",
   "execution_count": 167,
   "metadata": {},
   "outputs": [],
   "source": [
    "#GSE37377\n",
    "\n",
    "df_h3k4me1[df_h3k4me1['GSE'].str.contains('GSE37377')]\n",
    "\n",
    "#First Series\n",
    "GSE37377_traits = ['GSM916975', 'GSM916977']\n",
    "GSE37377_controls = ['GSM916966', 'GSM916968', 'GSM916971']\n"
   ]
  },
  {
   "cell_type": "code",
   "execution_count": 168,
   "metadata": {},
   "outputs": [],
   "source": [
    "# #Getting SRR IDs\n",
    "\n",
    "SRR_GSE37377_control = SRR_GSM_df[SRR_GSM_df['GSM'].isin(GSE37377_controls)]\n",
    "SRR_GSE37377_traits =  SRR_GSM_df[SRR_GSM_df['GSM'].isin(GSE37377_traits)]"
   ]
  },
  {
   "cell_type": "code",
   "execution_count": 175,
   "metadata": {},
   "outputs": [],
   "source": [
    "# #list SRRs\n",
    "\n",
    "list_SRR_GSE37377_control = SRR_GSE37377_control['SRR'].tolist()\n",
    "list_SRR_GSE37377_traits = SRR_GSE37377_traits['SRR'].tolist()"
   ]
  },
  {
   "cell_type": "code",
   "execution_count": 176,
   "metadata": {},
   "outputs": [],
   "source": [
    "#Saving lists GSE37377 (Control)\n",
    "\n",
    "with open(\"list_SRR_GSE37377_control.txt\", \"w\") as file:\n",
    "    file.write(\"\\n\".join(map(str,list_SRR_GSE37377_control)))\n"
   ]
  },
  {
   "cell_type": "code",
   "execution_count": 178,
   "metadata": {},
   "outputs": [],
   "source": [
    "#Saving lists GSE37377 (Control)\n",
    "\n",
    "with open(\"list_SRR_GSE37377_traits.txt\", \"w\") as file:\n",
    "    file.write(\"\\n\".join(map(str,list_SRR_GSE37377_traits)))\n",
    "    \n"
   ]
  },
  {
   "cell_type": "code",
   "execution_count": 181,
   "metadata": {},
   "outputs": [],
   "source": [
    "#GSE117889\n",
    "\n",
    "df_h3k4me3[df_h3k4me3['GSE'].str.contains('GSE117889')]\n",
    "\n",
    "#lists\n",
    "GSE117889_traits = ['GSM3314513', 'GSM3314514']\n",
    "GSE117889_controls = ['GSM3314505', 'GSM3314506', 'GSM3314507','GSM3314508', 'GSM3314509', 'GSM3314510', \n",
    "                      'GSM3314511', 'GSM3314512']\n"
   ]
  },
  {
   "cell_type": "code",
   "execution_count": 182,
   "metadata": {},
   "outputs": [],
   "source": [
    "#Getting SRR IDs\n",
    "\n",
    "SRR_GSE117889_control = SRR_GSM_df[SRR_GSM_df['GSM'].isin(GSE117889_controls)]\n",
    "SRR_GSE117889_traits =  SRR_GSM_df[SRR_GSM_df['GSM'].isin(GSE117889_traits)]"
   ]
  },
  {
   "cell_type": "code",
   "execution_count": 185,
   "metadata": {},
   "outputs": [],
   "source": [
    "#list SRRs\n",
    "\n",
    "list_SRR_GSE117889_control = SRR_GSE117889_control['SRR'].tolist()\n",
    "list_SRR_GSE117889_traits = SRR_GSE117889_traits['SRR'].tolist()"
   ]
  },
  {
   "cell_type": "code",
   "execution_count": 186,
   "metadata": {},
   "outputs": [],
   "source": [
    "#Saving lists GSE117889 (Control)\n",
    "\n",
    "with open(\"list_SRR_GSE117889_control.txt\", \"w\") as file:\n",
    "    file.write(\"\\n\".join(map(str,list_SRR_GSE117889_control)))\n"
   ]
  },
  {
   "cell_type": "code",
   "execution_count": 187,
   "metadata": {},
   "outputs": [],
   "source": [
    "#Saving lists GSE117889 (Traits)\n",
    "\n",
    "with open(\"list_SRR_GSE117889_traits.txt\", \"w\") as file:\n",
    "    file.write(\"\\n\".join(map(str,list_SRR_GSE117889_traits)))\n",
    "    \n"
   ]
  },
  {
   "cell_type": "code",
   "execution_count": 189,
   "metadata": {},
   "outputs": [],
   "source": [
    "#GSE91401\n",
    "#Special case: we have the term CTRL, but actually these samples are traits!\n",
    "#So, we have two controls here (INPUT) - I read in the GEO-NCBI DESCRIPTION \n",
    "\n",
    "df_h3k4me3[df_h3k4me3['GSE'].str.contains('GSE91401')]\n",
    "\n",
    "#lists\n",
    "GSE91401_traits = ['GSM2422846', 'GSM2422850']\n",
    "GSE91401_controls = ['GSM2422854', 'GSM2422855']\n"
   ]
  },
  {
   "cell_type": "code",
   "execution_count": 190,
   "metadata": {},
   "outputs": [],
   "source": [
    "#Getting SRR IDs\n",
    "\n",
    "SRR_GSE91401_control = SRR_GSM_df[SRR_GSM_df['GSM'].isin(GSE91401_controls)]\n",
    "SRR_GSE91401_traits =  SRR_GSM_df[SRR_GSM_df['GSM'].isin(GSE91401_traits)]"
   ]
  },
  {
   "cell_type": "code",
   "execution_count": 193,
   "metadata": {},
   "outputs": [],
   "source": [
    "#list SRRs\n",
    "\n",
    "list_SRR_GSE91401_control = SRR_GSE91401_control['SRR'].tolist()\n",
    "list_SRR_GSE91401_traits = SRR_GSE91401_traits['SRR'].tolist()"
   ]
  },
  {
   "cell_type": "code",
   "execution_count": 194,
   "metadata": {},
   "outputs": [],
   "source": [
    "#Saving lists GSE91401 (Control)\n",
    "\n",
    "with open(\"list_SRR_GSE91401_control.txt\", \"w\") as file:\n",
    "    file.write(\"\\n\".join(map(str,list_SRR_GSE91401_control)))"
   ]
  },
  {
   "cell_type": "code",
   "execution_count": 195,
   "metadata": {},
   "outputs": [],
   "source": [
    "#Saving lists GSE91401 (Traits)\n",
    "\n",
    "with open(\"list_SRR_GSE91401_traits.txt\", \"w\") as file:\n",
    "    file.write(\"\\n\".join(map(str,list_SRR_GSE91401_traits)))"
   ]
  },
  {
   "cell_type": "code",
   "execution_count": 198,
   "metadata": {},
   "outputs": [],
   "source": [
    "#GSE54909\n",
    "\n",
    "df_h3k4me3[df_h3k4me3['GSE'].str.contains('GSE54909')]\n",
    "\n",
    "#lists\n",
    "GSE54909_traits = ['GSM1326440', 'GSM1326441']\n",
    "GSE54909_controls = ['GSM1326437', 'GSM1326438', 'GSM1326439']\n"
   ]
  },
  {
   "cell_type": "code",
   "execution_count": 199,
   "metadata": {},
   "outputs": [],
   "source": [
    "#Getting SRR IDs\n",
    "\n",
    "SRR_GSE54909_control = SRR_GSM_df[SRR_GSM_df['GSM'].isin(GSE54909_controls)]\n",
    "SRR_GSE54909_traits =  SRR_GSM_df[SRR_GSM_df['GSM'].isin(GSE54909_traits)]"
   ]
  },
  {
   "cell_type": "code",
   "execution_count": 202,
   "metadata": {},
   "outputs": [],
   "source": [
    "#list SRRs\n",
    "\n",
    "list_SRR_GSE54909_control = SRR_GSE54909_control['SRR'].tolist()\n",
    "list_SRR_GSE54909_traits = SRR_GSE54909_traits['SRR'].tolist()"
   ]
  },
  {
   "cell_type": "code",
   "execution_count": 203,
   "metadata": {},
   "outputs": [],
   "source": [
    "#Saving lists GSE54909 (Control)\n",
    "\n",
    "with open(\"list_SRR_GSE54909_control.txt\", \"w\") as file:\n",
    "    file.write(\"\\n\".join(map(str,list_SRR_GSE54909_control)))"
   ]
  },
  {
   "cell_type": "code",
   "execution_count": 204,
   "metadata": {},
   "outputs": [],
   "source": [
    "#Saving lists GSE54909 (traits)\n",
    "\n",
    "with open(\"list_SRR_GSE54909_traits.txt\", \"w\") as file:\n",
    "    file.write(\"\\n\".join(map(str,list_SRR_GSE54909_traits)))"
   ]
  },
  {
   "cell_type": "code",
   "execution_count": null,
   "metadata": {},
   "outputs": [],
   "source": []
  },
  {
   "cell_type": "code",
   "execution_count": null,
   "metadata": {},
   "outputs": [],
   "source": [
    "# target_anti = df_h3k4me1['Target-antibody'].tolist()\n",
    "# set_target_anti = set(target_anti)\n",
    "# set_target_anti"
   ]
  },
  {
   "cell_type": "markdown",
   "metadata": {},
   "source": [
    "# Trying to create the def using str.match + regex"
   ]
  },
  {
   "cell_type": "code",
   "execution_count": null,
   "metadata": {},
   "outputs": [],
   "source": []
  },
  {
   "cell_type": "code",
   "execution_count": 40,
   "metadata": {},
   "outputs": [],
   "source": [
    "# df_h3k4me1[df_h3k4me1['Target-antibody'].str.contains('Abcam, ab8895', case=False, na=False)]"
   ]
  },
  {
   "cell_type": "code",
   "execution_count": 39,
   "metadata": {},
   "outputs": [],
   "source": [
    "# #trying with abcam\n",
    "\n",
    "\n",
    "# df_h3k4me1_2 = find_target(df_final, 'Abcam, ab8895')\n",
    "# df_h3k4me1_2"
   ]
  },
  {
   "cell_type": "code",
   "execution_count": null,
   "metadata": {},
   "outputs": [],
   "source": []
  }
 ],
 "metadata": {
  "kernelspec": {
   "display_name": "Python 3",
   "language": "python",
   "name": "python3"
  },
  "language_info": {
   "codemirror_mode": {
    "name": "ipython",
    "version": 3
   },
   "file_extension": ".py",
   "mimetype": "text/x-python",
   "name": "python",
   "nbconvert_exporter": "python",
   "pygments_lexer": "ipython3",
   "version": "3.7.4"
  }
 },
 "nbformat": 4,
 "nbformat_minor": 2
}
