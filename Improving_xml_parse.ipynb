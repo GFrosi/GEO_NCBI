{
 "cells": [
  {
   "cell_type": "code",
   "execution_count": 1,
   "metadata": {},
   "outputs": [],
   "source": [
    "#Add sample values\n",
    "import os\n",
    "import tarfile\n",
    "from contextlib import closing\n",
    "from xml.dom import minidom\n",
    "import xml.etree.ElementTree as ET\n",
    "import os.path\n",
    "from pathlib import Path\n",
    "\n",
    "\n",
    "\n",
    "def flatten_dict(list_of_records):\n",
    "    flat_list = []\n",
    "    for tag in list_of_records:\n",
    "        \n",
    "        # in case the tag is not a dictionary\n",
    "        if type(tag) is str:\n",
    "            flat_list.append(tag)\n",
    "            continue\n",
    "            \n",
    "        for k,v in tag.items():\n",
    "            flat_list.append(v)\n",
    "            \n",
    "    return(flat_list) "
   ]
  },
  {
   "cell_type": "code",
   "execution_count": 51,
   "metadata": {},
   "outputs": [],
   "source": [
    "#getting main information\n",
    "\n",
    "base_dir = \"/Users/gfrosi/Documents/Frosi_lab_jacques/XML_TEST/GEO-data-example\"\n",
    "\n",
    "\n",
    "pathlist = Path(base_dir).glob('**/*.tgz')\n",
    "\n",
    "\n",
    "big_list = []\n",
    "local_list = []\n",
    "\n",
    "for path in pathlist:\n",
    "\n",
    "    gse_name = os.path.basename(path).replace('_family.xml.tgz', '') \n",
    "\n",
    "    with tarfile.open(path) as archive:\n",
    "        for member in archive:\n",
    "            if member.isreg() and member.name.endswith('.xml'): # regular xml fil\n",
    "\n",
    "                with closing(archive.extractfile(member)) as xmlfile:\n",
    "                    tree = ET.parse(xmlfile)\n",
    "                    root = tree.getroot()\n",
    "                    root.tag #ok\n",
    "    \n",
    "                   \n",
    "                    for sample in root.iter('{http://www.ncbi.nlm.nih.gov/geo/info/MINiML}Sample'):    \n",
    "                        if len(local_list) > 0:\n",
    "                            # flatten dict and append to big_list\n",
    "                            big_list.append(flatten_dict(local_list))\n",
    "                            local_list = []\n",
    "\n",
    "                        \n",
    "                        for child in sample:                   \n",
    "                            #get library-strategy\n",
    "                            if 'Library-Strategy' in child.tag:\n",
    "                                local_list.append(gse_name)\n",
    "                                local_list.append(sample.attrib)\n",
    "                                local_list.append(child.text)\n",
    "\n",
    "                            \n",
    "                            #get title\n",
    "                            if 'Title' in child.tag:\n",
    "                                local_list.append(child.text)\n",
    "\n",
    "\n",
    "                            #get antibody \n",
    "                            if 'Channel' in child.tag:\n",
    "                                antib = list()\n",
    "                                for char in child.iter():\n",
    "                                    if 'Characteristics' in char.tag:                                        \n",
    "                                        antib.append(char.attrib)\n",
    "                                        if char.attrib.get('tag') == 'antibody':\n",
    "                                            local_list.append(char.text.strip())\n",
    "                                count = 0    \n",
    "                                for i in antib:\n",
    "                                    if 'antibody' in i.values():\n",
    "                                        count  = 1\n",
    "                                        break\n",
    "                                if count == 0:\n",
    "                                    local_list.append('None')\n",
    "                                    \n",
    "                            #get antibody-target \n",
    "                            if 'Channel' in child.tag:\n",
    "                                antib_target = list()\n",
    "                                for char in child.iter():\n",
    "                                    if 'Characteristics' in char.tag:                                        \n",
    "                                        antib_target.append(char.attrib)\n",
    "                                        if char.attrib.get('tag') == 'antibody target':\n",
    "                                            local_list.append(char.text.strip())\n",
    "                                count = 0    \n",
    "                                for i in antib_target:\n",
    "                                    if 'antibody target' in i.values():\n",
    "                                        count  = 1\n",
    "                                        break\n",
    "                                if count == 0:\n",
    "                                    local_list.append('None')\n",
    "                            \n",
    "                            \n",
    "                            \n",
    "                            #get cell line\n",
    "                            if 'Channel' in child.tag:\n",
    "                                cell_line = list()\n",
    "                                for char in child.iter():\n",
    "                                    if 'Characteristics' in char.tag:                                        \n",
    "                                        cell_line.append(char.attrib)\n",
    "                                        if char.attrib.get('tag') == 'cell line':\n",
    "                                            local_list.append(char.text.strip())\n",
    "                                count = 0    \n",
    "                                for i in cell_line:\n",
    "                                    if 'cell line' in i.values():\n",
    "                                        count  = 1\n",
    "                                        break\n",
    "                                if count == 0:\n",
    "                                    local_list.append('None')\n",
    "                            \n",
    "                            \n",
    "                            #get cell type\n",
    "                            if 'Channel' in child.tag:\n",
    "                                cell_type = list()\n",
    "                                for char in child.iter():\n",
    "                                    if 'Characteristics' in char.tag:                                        \n",
    "                                        cell_type.append(char.attrib)\n",
    "                                        if char.attrib.get('tag') == 'cell type':\n",
    "                                            local_list.append(char.text.strip())\n",
    "                                count = 0    \n",
    "                                for i in cell_type:\n",
    "                                    if 'cell type' in i.values():\n",
    "                                        count  = 1\n",
    "                                        break\n",
    "                                if count == 0:\n",
    "                                    local_list.append('None')\n",
    "                            \n",
    "                            \n",
    "                            #get line\n",
    "                            if 'Channel' in child.tag:\n",
    "                                line = list()\n",
    "                                for char in child.iter():\n",
    "                                    if 'Characteristics' in char.tag:                                        \n",
    "                                        line.append(char.attrib)\n",
    "                                        if char.attrib.get('tag') == 'line':\n",
    "                                            local_list.append(char.text.strip())\n",
    "                                count = 0    \n",
    "                                for i in line:\n",
    "                                    if 'line' in i.values():\n",
    "                                        count  = 1\n",
    "                                        break\n",
    "                                if count == 0:\n",
    "                                    local_list.append('None')\n",
    "                            \n",
    "                           \n",
    "                            #Get organism\n",
    "                            if 'Channel' in child.tag:\n",
    "                                for char in child.iter():\n",
    "                                    if 'Organism' in char.tag:\n",
    "                                        local_list.append(char.text.strip())\n",
    "                                        \n",
    "                            #get source          \n",
    "                            if 'Channel' in child.tag:\n",
    "                                for char in child.iter():\n",
    "                                    if 'Source' in char.tag:\n",
    "                                        local_list.append(char.text.strip())                     \n",
    "#print(big_list)\n"
   ]
  },
  {
   "cell_type": "code",
   "execution_count": 56,
   "metadata": {},
   "outputs": [
    {
     "name": "stdout",
     "output_type": "stream",
     "text": [
      "39\n"
     ]
    }
   ],
   "source": [
    "\n",
    "print(len(big_list))"
   ]
  },
  {
   "cell_type": "code",
   "execution_count": 53,
   "metadata": {},
   "outputs": [],
   "source": [
    "result_list = []\n",
    "\n",
    "for sublist in big_list:\n",
    "    if len(sublist) == 16:\n",
    "        result_list.append(sublist)"
   ]
  },
  {
   "cell_type": "code",
   "execution_count": 54,
   "metadata": {},
   "outputs": [
    {
     "name": "stdout",
     "output_type": "stream",
     "text": [
      "[['ChIP H3K4me3 AML_2', 'None', 'None', 'None', 'None', 'None', 'None', 'H3K4me3', 'None', 'None', 'None', 'Homo sapiens', 'AML_2', 'GSE54580', 'GSM1612075', 'ChIP-Seq'], ['ChIP H2AKll9ub AML_2', 'None', 'None', 'None', 'None', 'None', 'None', 'H2AK119ub', 'None', 'None', 'None', 'Homo sapiens', 'AML_2', 'GSE54580', 'GSM1612076', 'ChIP-Seq'], ['ChIP-seq from SK-N-SH (ENCLB406QGW)', 'None', 'None', 'None', 'None', 'None', 'IRF3', 'None', 'None', 'None', 'SK-N-SH', 'Homo sapiens', 'Homo sapiens SK-N-SH immortalized cell line', 'GSE91752', 'GSM2423467', 'ChIP-Seq']]\n"
     ]
    }
   ],
   "source": [
    "#source, cell lne, cell type\n",
    "\n",
    "print(result_list[36:39])"
   ]
  },
  {
   "cell_type": "code",
   "execution_count": 55,
   "metadata": {},
   "outputs": [
    {
     "name": "stdout",
     "output_type": "stream",
     "text": [
      "['RINGA1', 'None', 'None', 'None', 'None', 'None', 'None', 'None', 'K562', 'erythromyeloblastoid leukemia cells', 'None', 'Homo sapiens', 'K562_GFP fusion protein', 'GSE54580', 'GSM1319301', 'ChIP-Seq']\n"
     ]
    }
   ],
   "source": [
    "print(result_list[1])"
   ]
  },
  {
   "cell_type": "code",
   "execution_count": null,
   "metadata": {},
   "outputs": [],
   "source": [
    "header = ['Title', 'empty', 'empty', 'empty', 'empty', 'empty', 'antibody', 'antibody-target', 'cell line', 'cell type', 'line', 'organism', 'source-cell', 'GSE', 'GSM', 'Library']"
   ]
  },
  {
   "cell_type": "code",
   "execution_count": null,
   "metadata": {},
   "outputs": [],
   "source": []
  }
 ],
 "metadata": {
  "kernelspec": {
   "display_name": "Python 3",
   "language": "python",
   "name": "python3"
  },
  "language_info": {
   "codemirror_mode": {
    "name": "ipython",
    "version": 3
   },
   "file_extension": ".py",
   "mimetype": "text/x-python",
   "name": "python",
   "nbconvert_exporter": "python",
   "pygments_lexer": "ipython3",
   "version": "3.7.4"
  }
 },
 "nbformat": 4,
 "nbformat_minor": 2
}
