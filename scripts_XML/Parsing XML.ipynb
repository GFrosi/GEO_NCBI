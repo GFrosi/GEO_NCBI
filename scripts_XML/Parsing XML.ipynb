{
 "cells": [
  {
   "cell_type": "code",
   "execution_count": null,
   "metadata": {},
   "outputs": [],
   "source": [
    "import numpy as np\n",
    "import pandas as pd\n",
    "from xml.dom import minidom\n",
    "import xml.etree.ElementTree as ET"
   ]
  },
  {
   "cell_type": "code",
   "execution_count": null,
   "metadata": {},
   "outputs": [],
   "source": [
    "\n",
    "tree = ET.parse('GSE65138_family.xml')\n",
    "root = tree.getroot()\n",
    "root.tag #MIniML\n",
    "\n",
    "#root.attrib"
   ]
  },
  {
   "cell_type": "code",
   "execution_count": null,
   "metadata": {
    "scrolled": true
   },
   "outputs": [],
   "source": [
    "#child\n",
    "for child in root:\n",
    "    print(child.tag, child.attrib)"
   ]
  },
  {
   "cell_type": "code",
   "execution_count": null,
   "metadata": {},
   "outputs": [],
   "source": [
    "tags = [elem.tag for elem in root.iter()]\n",
    "tags"
   ]
  },
  {
   "cell_type": "code",
   "execution_count": null,
   "metadata": {},
   "outputs": [],
   "source": [
    "#Check how many GSM in this series are related to chip-seq data (testing in the minor file) - first series (53 GSM)\n",
    "\n",
    "GSM_library = []\n",
    "for sample in root.iter('{http://www.ncbi.nlm.nih.gov/geo/info/MINiML}Sample'):\n",
    "    for child in sample:\n",
    "        if 'Library-Strategy' in child.tag:\n",
    "                \n",
    "            GSM_library.append([sample.attrib, child.text])\n",
    "\n",
    "\n",
    "print(GSM_library)\n",
    "print(len(GSM_library))\n",
    "\n"
   ]
  },
  {
   "cell_type": "code",
   "execution_count": null,
   "metadata": {},
   "outputs": [],
   "source": [
    "\n",
    "#trying to separate child loops\n",
    "\n",
    "\n",
    "general_list_1 = []\n",
    "\n",
    "for sample in root.iter('{http://www.ncbi.nlm.nih.gov/geo/info/MINiML}Sample'):\n",
    "    for k,v in sample.items():\n",
    "        general_list_1.append(v)\n",
    "                \n",
    "        for child in sample:\n",
    "            if 'Library-Strategy' in child.tag:\n",
    "                general_list_1.append(child.text)\n",
    "            \n",
    "            if 'Type' in child.tag:\n",
    "                general_list_1.append(child.text)\n",
    "                    \n",
    "            \n",
    "            if 'Status' in child.tag:\n",
    "                for k,v in child.attrib.items():\n",
    "                    general_list_1.append(v)\n",
    "                                    \n",
    "                    \n",
    "            if 'Platform-Ref' in child.tag:\n",
    "                for k,v in child.attrib.items():\n",
    "                    general_list_1.append(v)\n",
    "                    \n",
    "                    #STATUS TAG\n",
    "                    for status in root.iter('{http://www.ncbi.nlm.nih.gov/geo/info/MINiML}Status'):\n",
    "                        for child in status:\n",
    "                            if \n",
    "                            general_list_1.append(child.text)\n",
    "              \n",
    "                \n",
    "\n",
    "                \n",
    "                #                 if 'Release-Date' in sample:\n",
    "#                     general_list_1.append(child1.text) \n",
    "                    \n",
    "                  \n",
    "                   \n",
    "general_list_1\n",
    "\n"
   ]
  },
  {
   "cell_type": "code",
   "execution_count": null,
   "metadata": {},
   "outputs": [],
   "source": [
    "\n",
    "#working in status - in this way, the code is getting the first two status related to Plataforms\n",
    "\n",
    "for sample in root.iter('{http://www.ncbi.nlm.nih.gov/geo/info/MINiML}Sample'):\n",
    "    for status in root.iter('{http://www.ncbi.nlm.nih.gov/geo/info/MINiML}Status'):\n",
    "        for child in status:\n",
    "            if 'Submission-Date' in child.tag:\n",
    "                print(child.text)"
   ]
  },
  {
   "cell_type": "code",
   "execution_count": null,
   "metadata": {},
   "outputs": [],
   "source": []
  },
  {
   "cell_type": "code",
   "execution_count": null,
   "metadata": {},
   "outputs": [],
   "source": []
  },
  {
   "cell_type": "code",
   "execution_count": null,
   "metadata": {},
   "outputs": [],
   "source": []
  },
  {
   "cell_type": "code",
   "execution_count": null,
   "metadata": {},
   "outputs": [],
   "source": []
  },
  {
   "cell_type": "code",
   "execution_count": null,
   "metadata": {},
   "outputs": [],
   "source": [
    "from xml.dom import minidom\n",
    "import xml.etree.ElementTree as ET\n",
    "\n",
    "tree = ET.parse('GSE65138_family.xml')\n",
    "\n",
    "root = tree.getroot()\n",
    "root.tag #MIniMLdef flatten_dict(list_of_records):\n",
    "    \n",
    "def flatten_dict(list_of_records):\n",
    "    flat_list = []\n",
    "    for tag in list_of_records:\n",
    "        for k,v in tag.items():\n",
    "            flat_list.append(v)\n",
    "            \n",
    "    return(flat_list) \n",
    "\n",
    "\n",
    "big_list = []\n",
    "local_list = []\n",
    "\n",
    "for sample in root.iter('{http://www.ncbi.nlm.nih.gov/geo/info/MINiML}Sample'):    \n",
    "    if len(local_list) > 0:\n",
    "        # flatten dict and append to big_list\n",
    "        big_list.append(flatten_dict(local_list))\n",
    "        local_list = []    \n",
    "        \n",
    "    for child in sample:      \n",
    "        if 'Platform-Ref' in child.tag:\n",
    "            local_list.append(sample.attrib)\n",
    "            local_list.append(child.attrib)\n",
    "\n",
    "print(big_list)"
   ]
  },
  {
   "cell_type": "code",
   "execution_count": 15,
   "metadata": {},
   "outputs": [
    {
     "name": "stdout",
     "output_type": "stream",
     "text": [
      "50701\n"
     ]
    }
   ],
   "source": [
    "import os\n",
    "import tarfile\n",
    "from contextlib import closing\n",
    "from xml.dom import minidom\n",
    "import xml.etree.ElementTree as ET\n",
    "import os.path\n",
    "base_dir = \"/Users/gfrosi/Documents/Frosi_lab_jacques/XML_TEST/GEO-data\"\n",
    "\n",
    "from pathlib import Path\n",
    "\n",
    "pathlist = Path(base_dir).glob('**/*.tgz')\n",
    "\n",
    "general_list = []\n",
    "\n",
    "for path in pathlist:\n",
    "\n",
    "    gse_name = os.path.basename(path).replace('_family.xml.tgz','') # Get GSE name\n",
    "\n",
    "    with tarfile.open(path) as archive:\n",
    "        for member in archive:\n",
    "            if member.isreg() and member.name.endswith('.xml'): # regular xml fil\n",
    "\n",
    "                with closing(archive.extractfile(member)) as xmlfile:\n",
    "                    tree1 = ET.parse(xmlfile)\n",
    "                    root1 = tree1.getroot()\n",
    "                    root1.tag\n",
    "    \n",
    "\n",
    "                    for sample in root1.iter('{http://www.ncbi.nlm.nih.gov/geo/info/MINiML}Sample'):\n",
    "                        for k,v in sample.items():\n",
    "                            for child in sample:\n",
    "                                if 'Library-Strategy' in child.tag:\n",
    "                                    general_list.append([gse_name,v])\n",
    "\n",
    "                                    \n",
    "                                    \n",
    "                                \n",
    "\n",
    "print(len(general_list))\n"
   ]
  },
  {
   "cell_type": "code",
   "execution_count": null,
   "metadata": {},
   "outputs": [],
   "source": [
    "root1.tag"
   ]
  },
  {
   "cell_type": "code",
   "execution_count": null,
   "metadata": {},
   "outputs": [],
   "source": []
  }
 ],
 "metadata": {
  "kernelspec": {
   "display_name": "Python 3",
   "language": "python",
   "name": "python3"
  },
  "language_info": {
   "codemirror_mode": {
    "name": "ipython",
    "version": 3
   },
   "file_extension": ".py",
   "mimetype": "text/x-python",
   "name": "python",
   "nbconvert_exporter": "python",
   "pygments_lexer": "ipython3",
   "version": "3.7.4"
  }
 },
 "nbformat": 4,
 "nbformat_minor": 2
}
